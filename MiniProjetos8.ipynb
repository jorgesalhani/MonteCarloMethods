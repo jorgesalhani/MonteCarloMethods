{
 "cells": [
  {
   "cell_type": "markdown",
   "metadata": {},
   "source": [
    "# Mini Projeto 8: Amostragem por importância"
   ]
  },
  {
   "cell_type": "code",
   "execution_count": 1,
   "metadata": {},
   "outputs": [],
   "source": [
    "import matplotlib.pyplot as plt\n",
    "import random as rnd\n",
    "import numpy as np\n",
    "import scipy.stats as stats"
   ]
  },
  {
   "cell_type": "markdown",
   "metadata": {},
   "source": [
    "## Resultado da integral exata"
   ]
  },
  {
   "cell_type": "code",
   "execution_count": 2,
   "metadata": {},
   "outputs": [],
   "source": [
    "func = lambda x: (np.exp(x) - 1)/(np.exp(1) - 1)"
   ]
  },
  {
   "cell_type": "code",
   "execution_count": 3,
   "metadata": {},
   "outputs": [],
   "source": [
    "EXACT_INT = 0.41802"
   ]
  },
  {
   "cell_type": "markdown",
   "metadata": {},
   "source": [
    "## Monte Carlo Tosco"
   ]
  },
  {
   "cell_type": "code",
   "execution_count": 29,
   "metadata": {},
   "outputs": [],
   "source": [
    "def get_crude_montecarlo(N, func=func):\n",
    "    randoms = [rnd.random() for i in range(N)]\n",
    "    results = func(randoms)\n",
    "    exp_res = sum(results)/N\n",
    "    var_res = sum((results - exp_res)**2)/N\n",
    "    ret = [exp_res, np.sqrt(var_res)]\n",
    "    return ret"
   ]
  },
  {
   "cell_type": "code",
   "execution_count": 30,
   "metadata": {},
   "outputs": [],
   "source": [
    "std_err = lambda x: (1/(len(x)-1)) * sum((x-np.mean(x))**2)"
   ]
  },
  {
   "cell_type": "markdown",
   "metadata": {},
   "source": [
    "## Monte Carlo por Importância"
   ]
  },
  {
   "cell_type": "code",
   "execution_count": 31,
   "metadata": {},
   "outputs": [],
   "source": [
    "cont_dist2 = lambda n,z: n*(z**(n-1))"
   ]
  },
  {
   "cell_type": "code",
   "execution_count": 32,
   "metadata": {},
   "outputs": [],
   "source": [
    "def get_extreme_values_dist(N, N_samples):\n",
    "    N_extreme = np.zeros(N_samples)\n",
    "\n",
    "    for x in range(N_samples):\n",
    "        X = []\n",
    "        r = 1\n",
    "        for i in range(N):\n",
    "            X.append(rnd.random())\n",
    "            r *= X[i]\n",
    "            \n",
    "        Z = max(X)\n",
    "        if (r <= Z):\n",
    "            N_extreme[x] += Z\n",
    "        \n",
    "    return N_extreme"
   ]
  },
  {
   "cell_type": "code",
   "execution_count": 33,
   "metadata": {},
   "outputs": [],
   "source": [
    "def indicator_func(x, threshold):\n",
    "    ret = []\n",
    "    for i in x:\n",
    "        if i < threshold:\n",
    "            ret.append(1)\n",
    "            \n",
    "        else:\n",
    "            ret.append(0)\n",
    "    \n",
    "    return ret"
   ]
  },
  {
   "cell_type": "markdown",
   "metadata": {},
   "source": [
    "## Resultados"
   ]
  },
  {
   "cell_type": "markdown",
   "metadata": {},
   "source": [
    "### Tosco: utilizando N=20 pontos"
   ]
  },
  {
   "cell_type": "code",
   "execution_count": 34,
   "metadata": {},
   "outputs": [
    {
     "name": "stdout",
     "output_type": "stream",
     "text": [
      "Monte Carlo Tosco: \n",
      " 0.49159415367605314(0.34608731333318676)\n"
     ]
    }
   ],
   "source": [
    "mc_0 = get_crude_montecarlo(20)\n",
    "\n",
    "print(\"Monte Carlo Tosco: \\n\", \"{}({})\".format(mc_0[0], mc_0[1]))"
   ]
  },
  {
   "cell_type": "markdown",
   "metadata": {},
   "source": [
    "Onde o primeiro termo representa o valor estimado $\\hat\\theta$ e entre parênteses, metade do intervalo de confiança $\\sigma$"
   ]
  },
  {
   "cell_type": "markdown",
   "metadata": {},
   "source": [
    "### Importância: utilizando N=20 pontos"
   ]
  },
  {
   "cell_type": "code",
   "execution_count": 23,
   "metadata": {},
   "outputs": [],
   "source": [
    "n = 20"
   ]
  },
  {
   "cell_type": "code",
   "execution_count": 24,
   "metadata": {},
   "outputs": [],
   "source": [
    "N1_ext = get_extreme_values_dist(1, n)\n",
    "N2_ext = get_extreme_values_dist(2, n)\n",
    "N3_ext = get_extreme_values_dist(3, n)\n",
    "N4_ext = get_extreme_values_dist(4, n)"
   ]
  },
  {
   "cell_type": "code",
   "execution_count": 26,
   "metadata": {},
   "outputs": [],
   "source": [
    "estim = (1/n)*sum(np.divide(np.multiply(func(N1_ext),indicator_func(N1_ext, 1)), cont_dist2(1,N1_ext)))\n",
    "estim_var = sum((func(N1_ext) - estim)**2)/n\n",
    "ret1 = [estim, 2*np.sqrt(estim_var)] \n",
    "\n",
    "estim = (1/n)*sum(np.divide(np.multiply(func(N2_ext),indicator_func(N2_ext, 1)), cont_dist2(2,N2_ext)))\n",
    "estim_var = sum((func(N2_ext) - estim)**2)/n\n",
    "ret2 = [estim, 2*np.sqrt(estim_var)] \n",
    "\n",
    "estim = (1/n)*sum(np.divide(np.multiply(func(N3_ext),indicator_func(N3_ext, 1)), cont_dist2(3,N3_ext)))\n",
    "estim_var = sum((func(N3_ext) - estim)**2)/n\n",
    "ret3 = [estim, 2*np.sqrt(estim_var)] \n",
    "\n",
    "estim = (1/n)*sum(np.divide(np.multiply(func(N4_ext),indicator_func(N4_ext, 1)), cont_dist2(4,N4_ext)))\n",
    "estim_var = sum((func(N4_ext) - estim)**2)/n\n",
    "ret4 = [estim, 2*np.sqrt(estim_var)] "
   ]
  },
  {
   "cell_type": "code",
   "execution_count": 29,
   "metadata": {},
   "outputs": [
    {
     "name": "stdout",
     "output_type": "stream",
     "text": [
      "Monte Carlo Importância (k = 1): \n",
      " 0.48067773319853535(0.6359829756257793)\n",
      "\n",
      "\n",
      "Monte Carlo Importância (k = 2): \n",
      " 0.41761751720702467(0.6716759753257928)\n",
      "\n",
      "\n",
      "Monte Carlo Importância (k = 3): \n",
      " 0.4430637714804183(0.6927349046074152)\n",
      "\n",
      "\n",
      "Monte Carlo Importância (k = 4): \n",
      " 0.3731222486370236(0.8369902947643326)\n",
      "\n",
      "\n"
     ]
    }
   ],
   "source": [
    "print(\"Monte Carlo Importância (k = 1): \\n\", \"{}({})\\n\\n\".format(ret1[0], ret1[1]))\n",
    "print(\"Monte Carlo Importância (k = 2): \\n\", \"{}({})\\n\\n\".format(ret2[0], ret2[1]))\n",
    "print(\"Monte Carlo Importância (k = 3): \\n\", \"{}({})\\n\\n\".format(ret3[0], ret3[1]))\n",
    "print(\"Monte Carlo Importância (k = 4): \\n\", \"{}({})\\n\\n\".format(ret4[0], ret4[1]))"
   ]
  },
  {
   "cell_type": "markdown",
   "metadata": {},
   "source": [
    "Onde o primeiro termo representa o valor estimado $\\hat\\theta$ e entre parênteses, metade do intervalo de confiança $\\sigma$"
   ]
  },
  {
   "cell_type": "markdown",
   "metadata": {},
   "source": [
    "### Resultados analíticos para as variâncias"
   ]
  },
  {
   "cell_type": "markdown",
   "metadata": {},
   "source": [
    "Sendo a variância $V$ dada por"
   ]
  },
  {
   "cell_type": "markdown",
   "metadata": {},
   "source": [
    "$$\n",
    "V = \\int_{0}^{1} \\Bigg[\\frac{h(x)f(x)}{g(x)}\\Bigg]^2 g(x) dx - \\theta^2\n",
    "$$"
   ]
  },
  {
   "cell_type": "markdown",
   "metadata": {},
   "source": [
    "E definindo\n",
    "\n",
    "$$\n",
    "h^*(X) = \\frac{h(X)f(X)}{g(X)}\n",
    "$$\n",
    "\n",
    "Temos que"
   ]
  },
  {
   "cell_type": "markdown",
   "metadata": {},
   "source": [
    "$$\n",
    "V = \\int_{0}^{1} h^*(x)^2 g(x) dx - \\theta^2\n",
    "$$"
   ]
  },
  {
   "cell_type": "markdown",
   "metadata": {},
   "source": [
    "Onde $f(x)$ e $g(x)$ representam ambas densidades de probabilidades"
   ]
  },
  {
   "cell_type": "markdown",
   "metadata": {},
   "source": [
    "Utilizando a função $g(x)$ dada por $g_k(x) = kx^{k-1}$, tal como utilizado para determinar os valores da integral"
   ]
  },
  {
   "cell_type": "markdown",
   "metadata": {},
   "source": [
    "$$\n",
    "\\int_0^1 h(x)f(x) dx = \\int_{0}^1 \\frac{e^x - 1}{e - 1} dx\n",
    "$$"
   ]
  },
  {
   "cell_type": "markdown",
   "metadata": {},
   "source": [
    "Desta forma, temos que "
   ]
  },
  {
   "cell_type": "markdown",
   "metadata": {},
   "source": [
    "$$\n",
    "V = \\int_0^1 \\Bigg[\\frac{e^x - 1}{e - 1}\\Bigg]^2 \\frac{1}{kx^{k-1}} dx - \\theta^2 \\implies\n",
    "$$\n",
    "\n",
    "$$\n",
    "V = \\frac{1}{k(e - 1)^2} \\int_0^1 \\frac{(e^x - 1)^2}{x^{k-1}} dx - \\theta^2\n",
    "$$"
   ]
  },
  {
   "cell_type": "markdown",
   "metadata": {},
   "source": [
    "Para k=1, o resultado converge, porém para k>1, precisamos utilizar aproximações numéricas. "
   ]
  },
  {
   "cell_type": "code",
   "execution_count": 44,
   "metadata": {},
   "outputs": [],
   "source": [
    "var_func1 = lambda x: ((np.exp(x) - 1)**2)\n",
    "var_func2 = lambda x: np.divide(((np.exp(x) - 1)**2),(x))\n",
    "var_func3 = lambda x: np.divide(((np.exp(x) - 1)**2),(np.multiply(x,x)))\n",
    "var_func4 = lambda x: np.divide(((np.exp(x) - 1)**2),(np.multiply(np.multiply(x,x),x)))"
   ]
  },
  {
   "cell_type": "code",
   "execution_count": 65,
   "metadata": {},
   "outputs": [
    {
     "name": "stdout",
     "output_type": "stream",
     "text": [
      "Monte Carlo Tosco (k = 1): \n",
      " 0.6902901230314356(0.8415016059504008)\n",
      "\n",
      "\n",
      "Monte Carlo Tosco (k = 2): \n",
      " 1.1256479249872684(0.8274228925758299)\n",
      "\n",
      "\n",
      "Monte Carlo Tosco (k = 3): \n",
      " 1.7751458370245263(0.5592426402940807)\n",
      "\n",
      "\n",
      "Monte Carlo Tosco (k = 4): \n",
      " 8.778661316940081(27.95050215742991)\n",
      "\n",
      "\n"
     ]
    }
   ],
   "source": [
    "mc_1 = get_crude_montecarlo(100, var_func1)\n",
    "mc_2 = get_crude_montecarlo(100, var_func2)\n",
    "mc_3 = get_crude_montecarlo(100, var_func3)\n",
    "mc_4 = get_crude_montecarlo(100, var_func4)\n",
    "\n",
    "\n",
    "print(\"Monte Carlo Tosco (k = 1): \\n\", \"{}({})\\n\\n\".format(mc_1[0], mc_1[1]))\n",
    "print(\"Monte Carlo Tosco (k = 2): \\n\", \"{}({})\\n\\n\".format(mc_2[0], mc_2[1]))\n",
    "print(\"Monte Carlo Tosco (k = 3): \\n\", \"{}({})\\n\\n\".format(mc_3[0], mc_3[1]))\n",
    "print(\"Monte Carlo Tosco (k = 4): \\n\", \"{}({})\\n\\n\".format(mc_4[0], mc_4[1]))"
   ]
  },
  {
   "cell_type": "markdown",
   "metadata": {},
   "source": [
    "Assim, temos que as varinâncias \"analíticas\" (entre aspas, já que apesar da fórmula decorrer de resultados analíticos, utilizamos ao fim monte carlo tosco para aproximar seu valor)"
   ]
  },
  {
   "cell_type": "code",
   "execution_count": 49,
   "metadata": {},
   "outputs": [],
   "source": [
    "f = lambda k, int_res, theta: (1/(k*(np.exp(1) - 1)**2)) * int_res - theta**2"
   ]
  },
  {
   "cell_type": "code",
   "execution_count": 63,
   "metadata": {},
   "outputs": [
    {
     "name": "stdout",
     "output_type": "stream",
     "text": [
      "Para k = 1\n",
      "V = 0.24748700185792014\n",
      "\n",
      "\n",
      "Para k = 2\n",
      "V = 0.1901277073572234\n",
      "\n",
      "\n",
      "Para k = 3\n",
      "V = 0.18014080851868375\n",
      "\n",
      "\n",
      "Para k = 4\n",
      "V = 0.5623599314440245\n",
      "\n",
      "\n"
     ]
    }
   ],
   "source": [
    "print(\"Para k = 1\\nV = {}\\n\\n\".format(f(1, mc_1[0], ret1[0])))\n",
    "print(\"Para k = 2\\nV = {}\\n\\n\".format(f(2, mc_2[0], ret2[0])))\n",
    "print(\"Para k = 3\\nV = {}\\n\\n\".format(f(3, mc_3[0], ret3[0])))\n",
    "print(\"Para k = 4\\nV = {}\\n\\n\".format(f(4, mc_4[0], ret4[0])))"
   ]
  },
  {
   "cell_type": "markdown",
   "metadata": {},
   "source": [
    "É importante notar que as igualdades acima devem ser interpretadas como aproximações, já que existem erros associados a cada um dos resultados que podem ser obtidos através da propagação de erro"
   ]
  },
  {
   "cell_type": "code",
   "execution_count": null,
   "metadata": {},
   "outputs": [],
   "source": []
  }
 ],
 "metadata": {
  "kernelspec": {
   "display_name": "Python 3",
   "language": "python",
   "name": "python3"
  },
  "language_info": {
   "codemirror_mode": {
    "name": "ipython",
    "version": 3
   },
   "file_extension": ".py",
   "mimetype": "text/x-python",
   "name": "python",
   "nbconvert_exporter": "python",
   "pygments_lexer": "ipython3",
   "version": "3.8.3"
  }
 },
 "nbformat": 4,
 "nbformat_minor": 4
}
