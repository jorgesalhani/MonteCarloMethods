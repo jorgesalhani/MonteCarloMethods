{
 "cells": [
  {
   "cell_type": "markdown",
   "metadata": {},
   "source": [
    "# Mini Projeto 10: Cadeia de Markov Infinita\n"
   ]
  },
  {
   "cell_type": "code",
   "execution_count": 4,
   "metadata": {},
   "outputs": [],
   "source": [
    "import numpy as np\n",
    "import matplotlib.pyplot as plt\n",
    "import scipy.stats as stats\n",
    "import random as rnd"
   ]
  },
  {
   "cell_type": "markdown",
   "metadata": {},
   "source": [
    "## Distribuição Estacionária"
   ]
  },
  {
   "cell_type": "markdown",
   "metadata": {},
   "source": [
    "Sendo um estado incial $\\mu_0 = [e_0, e_1, \\ldots, e_n]$ de uma cadeia de Markov cuja probabilidade de transição para um estado $\\mu_n = [e'_0, e'_1, \\ldots, e'_n]$ é dado por uma matriz $P$, temos a representação:\n",
    "\n",
    "$$\n",
    "\\mu_n = \\mu_0 P^n\n",
    "$$"
   ]
  },
  {
   "cell_type": "markdown",
   "metadata": {},
   "source": [
    "No caso limite, onde $n \\to \\infty$, caso a cadeia de markov apresente uma estacionariedade, temos que\n",
    "\n",
    "$$\n",
    "\\pi = \\pi P\n",
    "$$\n",
    "\n",
    "onde $\\pi = [\\pi_0, \\pi_1, \\ldots, \\pi_n]$ é o vetor que carrega os estados estacionários da cada sítio da cadeia."
   ]
  },
  {
   "cell_type": "markdown",
   "metadata": {},
   "source": [
    "Neste sentido, no caso onde temos a seguinte matriz de transição:\n",
    "\n",
    "$$\n",
    "P = \n",
    "\\begin{bmatrix} \n",
    "q & p & 0 & 0 & 0 & \\ldots & 0 &\\\\ \n",
    "q & 0 & p & 0 & 0 & \\ldots & 0 &\\\\\n",
    "0 & q & 0 & p & 0 & \\ldots & 0 &\\\\\n",
    "0 & 0 & q & 0 & p & \\ldots & 0 &\\\\\n",
    "\\end{bmatrix}\n",
    "$$\n"
   ]
  },
  {
   "cell_type": "markdown",
   "metadata": {},
   "source": [
    "obtemos a seguinte sequência de equações\n",
    "\n",
    "$$\n",
    "\\pi_0 = q \\pi_0 + q \\pi_1\\\\\n",
    "\\pi_1 = p \\pi_0 + q \\pi_2\\\\\n",
    "\\pi_2 = p \\pi_1 + q \\pi_3\\\\\n",
    "\\vdots = \\vdots\\\\\n",
    "\\pi_n = p \\pi_{n-1} + q \\pi_{n+1}\n",
    "$$\n",
    "\n",
    "Como também $p = 1 - q$, temos"
   ]
  },
  {
   "cell_type": "markdown",
   "metadata": {},
   "source": [
    "$$\n",
    "\\pi_0 (1 - q) = q \\pi_1 \\implies \\pi_1 = \\Bigg[\\frac{p}{q}\\Bigg]\\pi_0\n",
    "$$"
   ]
  },
  {
   "cell_type": "markdown",
   "metadata": {},
   "source": [
    "$$\n",
    "\\pi_2 = \\frac{1}{q}\\pi_1 - \\frac{p}{q} \\pi_0 = \\Bigg[\\frac{p}{q^2} - \\frac{p}{q}\\Bigg] \\pi_0 = \\Bigg[\\frac{p - pq}{q^2} \\Bigg]\\pi_0 = \\Bigg[\\frac{p (1 - q)}{q^2}\\Bigg] \\implies \\pi_2 = \\Bigg[\\frac{p}{q}\\Bigg]^2 \\pi_0\n",
    "$$"
   ]
  },
  {
   "cell_type": "markdown",
   "metadata": {},
   "source": [
    "$$\n",
    "\\pi_n = p \\Bigg[\\frac{p}{q}\\Bigg]^{n-1} \\pi_0 + q \\Bigg[\\frac{p}{q}\\Bigg]^{n+1} \\pi_0 \\implies\n",
    "$$"
   ]
  },
  {
   "cell_type": "markdown",
   "metadata": {},
   "source": [
    "$$\n",
    "\\pi_n = \\pi_0 \\Bigg[\\frac{p^n}{q^{n-1}} + \\frac{p^{n+1}}{q^{n+1}} \\Bigg] = \\pi_0 \\Bigg[\\frac{qp^n}{qq^{n}}\\Bigg] \\implies \\pi_n = \\Bigg[\\frac{p}{q}\\Bigg]^n \\pi_0\n",
    "$$"
   ]
  },
  {
   "cell_type": "markdown",
   "metadata": {},
   "source": [
    "Neste sentido, temos a generalização válida"
   ]
  },
  {
   "cell_type": "markdown",
   "metadata": {},
   "source": [
    "$$\n",
    "\\pi_n = \\Bigg[\\frac{p}{q}\\Bigg]^n \\pi_0\n",
    "$$"
   ]
  },
  {
   "cell_type": "markdown",
   "metadata": {},
   "source": [
    "Para que a probabilidade de encontrar um determinado estado ativo seja $1$ quando consideramos todos os possíveis estados $\\pi_i \\in \\pi$, por normalização temos que\n",
    "\n",
    "$$\n",
    "\\sum_{i=0}^n \\pi_i = 1 \\implies \\sum_{i = 0}^n \\Bigg[\\frac{p}{q}\\Bigg]^i \\pi_0 = 1\n",
    "$$"
   ]
  },
  {
   "cell_type": "markdown",
   "metadata": {},
   "source": [
    "Para o limite estacionário onde $n \\to \\infty$, temos uma série geométrica que converge para \n",
    "\n",
    "$$\n",
    "p/q < 1 \\implies p < q \\implies p < 1 - p \\implies 2 p < 1 \\implies p < 1/2\n",
    "$$. \n",
    "\n",
    "Logo, $p < 0.5$. Neste caso, a convergência ocorre para o valor \n",
    "\n",
    "$$\n",
    "\\frac{1}{\\pi_0} = \\frac{q}{q-p} \\implies \\pi_0 = 1 - \\frac{p}{q}\n",
    "$$"
   ]
  },
  {
   "cell_type": "markdown",
   "metadata": {},
   "source": [
    "Em particular, se considerarmos $p = 0.25$, $\\pi_0 = 0.666$m"
   ]
  },
  {
   "cell_type": "markdown",
   "metadata": {},
   "source": [
    "## Cadeia de Markov infinita"
   ]
  },
  {
   "cell_type": "code",
   "execution_count": 205,
   "metadata": {},
   "outputs": [],
   "source": [
    "def get_markov_chain(steps, p=0.25, state_one=0, queries=10):\n",
    "    states = []\n",
    "    states.append(state_one)\n",
    "    state_i = state_one\n",
    "    \n",
    "    rec_time = [0 for i in range(queries)]\n",
    "    rec_time[0] = 1\n",
    "    \n",
    "    for i in range(steps):\n",
    "        r = rnd.random()\n",
    "        if r < p:\n",
    "            state_i += 1\n",
    "        else:\n",
    "            if state_i == 0:\n",
    "                state_i = 0\n",
    "            else:\n",
    "                state_i -= 1\n",
    "        states.append(state_i)\n",
    "        \n",
    "        if state_i < queries:\n",
    "            rec_time[state_i] += 1\n",
    "    \n",
    "    rec_time = [N/rec_time[i] for i in range(len(rec_time))]\n",
    "    return states, rec_time"
   ]
  },
  {
   "cell_type": "code",
   "execution_count": 234,
   "metadata": {},
   "outputs": [],
   "source": [
    "def plot_markov_hist(states, bins, p=.25):\n",
    "    plt.figure(figsize=(16,6))\n",
    "\n",
    "    h = np.histogram(states, bins=bins)\n",
    "    plt.bar(h[1][:-1], h[0], label=r'$p = {}$'.format(p))\n",
    "    plt.ylabel(r'Número de ocorrências', fontsize=13)\n",
    "    plt.xlabel(r'Estado $e_i$', fontsize=13)\n",
    "    plt.yscale('log')\n",
    "    plt.legend()\n",
    "    plt.show()"
   ]
  },
  {
   "cell_type": "code",
   "execution_count": 242,
   "metadata": {},
   "outputs": [],
   "source": [
    "def plot_recurrent_time(rec_time):\n",
    "    h_log = [np.log(i) for i in rec_time]\n",
    "    slope, intercept, r_value, p_value, std_err = stats.linregress([i for i in range(10)], h_log)\n",
    "    plt.figure(figsize=(16,6))\n",
    "    plt.plot(rec_time, '-o', markersize=10, label=r'Experimento, $p=0.25$')\n",
    "    print(\"Intercepto = {}\".format(intercept))\n",
    "    print(\"Inclinação = {}\".format(slope))\n",
    "    plt.plot(np.exp(intercept) * np.exp([i*slope for i in range(10)]), label=r'Regressão: $e^{\\alpha + \\beta e_i}$')\n",
    "    plt.ylabel(r'Tempo de recorrência', fontsize=13)\n",
    "    plt.xlabel(r\"Estado $e_i$\", fontsize=13)\n",
    "    plt.yscale('log')\n",
    "    plt.legend()\n",
    "    plt.show()"
   ]
  },
  {
   "cell_type": "markdown",
   "metadata": {},
   "source": [
    "## Resultados para $N = 10^5$"
   ]
  },
  {
   "cell_type": "markdown",
   "metadata": {},
   "source": [
    "### Número de ocorrências"
   ]
  },
  {
   "cell_type": "markdown",
   "metadata": {},
   "source": [
    "Distribuição do número de ocorrências de cada estado $e_i \\in [0,1,2,3\\ldots]$ na cadeia de markov infinita $[0,\\infty]$"
   ]
  },
  {
   "cell_type": "code",
   "execution_count": 206,
   "metadata": {},
   "outputs": [],
   "source": [
    "N = 100000\n",
    "state_one = 0\n",
    "queries = 10\n",
    "states, rec_time = get_markov_chain(steps=100000, p=0.25, state_one=state_one, queries=queries)"
   ]
  },
  {
   "cell_type": "code",
   "execution_count": 236,
   "metadata": {},
   "outputs": [
    {
     "data": {
      "image/png": "[encoded data removed]",
      "text/plain": [
       "<Figure size 1152x432 with 1 Axes>"
      ]
     },
     "metadata": {
      "needs_background": "light"
     },
     "output_type": "display_data"
    }
   ],
   "source": [
    "plot_markov_hist(states, bins=10, p=.25)"
   ]
  },
  {
   "cell_type": "markdown",
   "metadata": {},
   "source": [
    "### Tempo de recorrência"
   ]
  },
  {
   "cell_type": "markdown",
   "metadata": {},
   "source": [
    "Distribuição do tempo de recorrência de cada estado $e_i \\in [0,1,2, \\ldots, 10]$ na cadeia de markov"
   ]
  },
  {
   "cell_type": "code",
   "execution_count": 243,
   "metadata": {},
   "outputs": [
    {
     "name": "stdout",
     "output_type": "stream",
     "text": [
      "Intercepto = 0.37771546399808376\n",
      "Inclinação = 1.1052392093817034\n"
     ]
    },
    {
     "data": {
      "image/png": "[encoded data removed]",
      "text/plain": [
       "<Figure size 1152x432 with 1 Axes>"
      ]
     },
     "metadata": {
      "needs_background": "light"
     },
     "output_type": "display_data"
    }
   ],
   "source": [
    "plot_recurrent_time(rec_time)"
   ]
  },
  {
   "cell_type": "markdown",
   "metadata": {},
   "source": [
    "Com isso, obtemos que o tempo de ocorrência para um dado estado $e_i$ segue uma função exponencial, cuja regressão linear resulta em\n",
    "\n",
    "$$\n",
    "f(e_i) = e^\\alpha e^{\\beta e_i}\n",
    "$$\n",
    "\n",
    "com $\\alpha = 0.378$ e $\\beta = 1.105$"
   ]
  },
  {
   "cell_type": "markdown",
   "metadata": {},
   "source": [
    "Para cada um dos estados, temos os seguintes valores de tempo"
   ]
  },
  {
   "cell_type": "code",
   "execution_count": 245,
   "metadata": {},
   "outputs": [
    {
     "data": {
      "text/plain": [
       "[1.4987560324930307,\n",
       " 4.508363013389838,\n",
       " 13.553808620222282,\n",
       " 40.56795131845842,\n",
       " 123.91573729863693,\n",
       " 330.03300330033005,\n",
       " 961.5384615384615,\n",
       " 3571.4285714285716,\n",
       " 10000.0,\n",
       " 33333.333333333336]"
      ]
     },
     "execution_count": 245,
     "metadata": {},
     "output_type": "execute_result"
    }
   ],
   "source": [
    "rec_time"
   ]
  },
  {
   "cell_type": "code",
   "execution_count": 259,
   "metadata": {},
   "outputs": [
    {
     "data": {
      "text/plain": [
       "[1.4593629428757966,\n",
       " 4.406144306000168,\n",
       " 13.303138701768441,\n",
       " 40.165161880306925,\n",
       " 121.26763954259953,\n",
       " 366.1342245814316,\n",
       " 1105.4414097237773,\n",
       " 3337.5757530700544,\n",
       " 10076.890380164623,\n",
       " 30424.394005274564]"
      ]
     },
     "execution_count": 259,
     "metadata": {},
     "output_type": "execute_result"
    }
   ],
   "source": [
    "teoric_time = [np.exp(0.378) * np.exp(1.105 * i) for i in range(0,10)]\n",
    "teoric_time"
   ]
  },
  {
   "cell_type": "code",
   "execution_count": 261,
   "metadata": {},
   "outputs": [
    {
     "data": {
      "text/plain": [
       "array([3.93930896e-02, 1.02218707e-01, 2.50669918e-01, 4.02789438e-01,\n",
       "       2.64809776e+00, 3.61012213e+01, 1.43902948e+02, 2.33852818e+02,\n",
       "       7.68903802e+01, 2.90893933e+03])"
      ]
     },
     "execution_count": 261,
     "metadata": {},
     "output_type": "execute_result"
    }
   ],
   "source": [
    "error = abs(np.subtract(teoric_time, rec_time))\n",
    "error"
   ]
  }
 ],
 "metadata": {
  "kernelspec": {
   "display_name": "Python 3",
   "language": "python",
   "name": "python3"
  },
  "language_info": {
   "codemirror_mode": {
    "name": "ipython",
    "version": 3
   },
   "file_extension": ".py",
   "mimetype": "text/x-python",
   "name": "python",
   "nbconvert_exporter": "python",
   "pygments_lexer": "ipython3",
   "version": "3.8.3"
  }
 },
 "nbformat": 4,
 "nbformat_minor": 4
}
